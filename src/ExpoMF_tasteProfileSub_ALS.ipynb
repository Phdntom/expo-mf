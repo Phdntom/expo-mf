{
 "cells": [
  {
   "cell_type": "markdown",
   "metadata": {},
   "source": [
    "# WF of taste Profile dataset using Apache Spark MLlib"
   ]
  },
  {
   "cell_type": "code",
   "execution_count": 1,
   "metadata": {
    "collapsed": true
   },
   "outputs": [],
   "source": [
    "from __future__ import print_function, division\n",
    "\n",
    "import sys, os\n",
    "\n",
    "os.environ[\"JAVA_HOME\"] = \"/usr/lib/jvm/java-1.8.0-ibm-1.8.0.3.10-1jpp.2.el7_2.x86_64/jre/\"\n",
    "from cluster_tools import conf, context_creator"
   ]
  },
  {
   "cell_type": "code",
   "execution_count": 2,
   "metadata": {
    "collapsed": false
   },
   "outputs": [
    {
     "name": "stdout",
     "output_type": "stream",
     "text": [
      "PYSPARK SHELL:  --executor-cores 8 --executor-memory 12g --deploy-mode client --num-executors 16 --master yarn --driver-memory 4g --driver-cores 1 pyspark-shell\n"
     ]
    },
    {
     "data": {
      "text/plain": [
       "'/home/hadoop/datashdp/shared/spark-2.1.1-bin-hadoop2.6/python/pyspark/shell.py'"
      ]
     },
     "execution_count": 2,
     "metadata": {},
     "output_type": "execute_result"
    }
   ],
   "source": [
    "spark_exec_script = context_creator.spark_executable('2.1.1', 'BT', num_exec=16, exec_mem='12g', exec_cores=8)\n",
    "spark_exec_script"
   ]
  },
  {
   "cell_type": "code",
   "execution_count": 3,
   "metadata": {
    "collapsed": false
   },
   "outputs": [
    {
     "name": "stdout",
     "output_type": "stream",
     "text": [
      "Welcome to\n",
      "      ____              __\n",
      "     / __/__  ___ _____/ /__\n",
      "    _\\ \\/ _ \\/ _ `/ __/  '_/\n",
      "   /__ / .__/\\_,_/_/ /_/\\_\\   version 2.1.1\n",
      "      /_/\n",
      "\n",
      "Using Python version 2.7.12 (default, Sep 19 2016 21:05:09)\n",
      "SparkSession available as 'spark'.\n"
     ]
    }
   ],
   "source": [
    "execfile(spark_exec_script)"
   ]
  },
  {
   "cell_type": "code",
   "execution_count": null,
   "metadata": {
    "collapsed": true
   },
   "outputs": [],
   "source": []
  },
  {
   "cell_type": "code",
   "execution_count": 4,
   "metadata": {
    "collapsed": false
   },
   "outputs": [],
   "source": [
    "import numpy as np\n",
    "import matplotlib\n",
    "matplotlib.use('Agg')\n",
    "import matplotlib.pyplot as plt\n",
    "%matplotlib inline\n",
    "import scipy.sparse\n",
    "import pandas as pd"
   ]
  },
  {
   "cell_type": "code",
   "execution_count": 5,
   "metadata": {
    "collapsed": true
   },
   "outputs": [],
   "source": [
    "DATA_ROOT = '/home/net1/appry001/data/expo-mf-data'"
   ]
  },
  {
   "cell_type": "code",
   "execution_count": 6,
   "metadata": {
    "collapsed": false
   },
   "outputs": [],
   "source": [
    "unique_uid = list()\n",
    "with open(os.path.join(DATA_ROOT, 'unique_uid_sub_20.txt'), 'r') as f:\n",
    "    for line in f:\n",
    "        unique_uid.append(line.strip())\n",
    "    \n",
    "unique_sid = list()\n",
    "with open(os.path.join(DATA_ROOT, 'unique_sid_sub_50.txt'), 'r') as f:\n",
    "    for line in f:\n",
    "        unique_sid.append(line.strip())"
   ]
  },
  {
   "cell_type": "code",
   "execution_count": 7,
   "metadata": {
    "collapsed": false
   },
   "outputs": [
    {
     "data": {
      "text/plain": [
       "(22781, 211830)"
      ]
     },
     "execution_count": 7,
     "metadata": {},
     "output_type": "execute_result"
    }
   ],
   "source": [
    "n_songs = len(unique_sid)\n",
    "n_users = len(unique_uid)\n",
    "n_songs, n_users"
   ]
  },
  {
   "cell_type": "code",
   "execution_count": 8,
   "metadata": {
    "collapsed": false
   },
   "outputs": [
    {
     "data": {
      "text/plain": [
       "'hdfs://lhdppn01p35.staples.com:8020'"
      ]
     },
     "execution_count": 8,
     "metadata": {},
     "output_type": "execute_result"
    }
   ],
   "source": [
    "HDFS = conf.bt_hdfs\n",
    "HDFS"
   ]
  },
  {
   "cell_type": "code",
   "execution_count": 9,
   "metadata": {
    "collapsed": true
   },
   "outputs": [],
   "source": [
    "def load_csv(path):\n",
    "    lines = []\n",
    "    with open(path, 'rb') as fobj:\n",
    "        headers = fobj.readline()\n",
    "        print(headers)\n",
    "        for line in fobj.readlines():\n",
    "            lines.append(line.strip())\n",
    "    return lines"
   ]
  },
  {
   "cell_type": "code",
   "execution_count": 10,
   "metadata": {
    "collapsed": false
   },
   "outputs": [
    {
     "name": "stdout",
     "output_type": "stream",
     "text": [
      "uid,sid,count\n",
      "\n"
     ]
    }
   ],
   "source": [
    "train_lines = load_csv(os.path.join(DATA_ROOT, 'train.num.sub.20.50.csv'))"
   ]
  },
  {
   "cell_type": "code",
   "execution_count": 11,
   "metadata": {
    "collapsed": false
   },
   "outputs": [
    {
     "data": {
      "text/plain": [
       "'hdfs://lhdppn01p35.staples.com:8020/user/appry001/expo-mf-data/train.num.sub.20.50'"
      ]
     },
     "execution_count": 11,
     "metadata": {},
     "output_type": "execute_result"
    }
   ],
   "source": [
    "train_outp = os.path.join(HDFS, 'user/appry001/expo-mf-data/', 'train.num.sub.20.50')\n",
    "train_outp"
   ]
  },
  {
   "cell_type": "code",
   "execution_count": 13,
   "metadata": {
    "collapsed": false
   },
   "outputs": [],
   "source": [
    "sc.parallelize(train_lines).saveAsTextFile(train_outp)"
   ]
  },
  {
   "cell_type": "code",
   "execution_count": 14,
   "metadata": {
    "collapsed": false
   },
   "outputs": [
    {
     "name": "stdout",
     "output_type": "stream",
     "text": [
      "uid,sid,count\n",
      "\n"
     ]
    }
   ],
   "source": [
    "test_lines = load_csv(os.path.join(DATA_ROOT, 'test.num.sub.20.50.csv'))"
   ]
  },
  {
   "cell_type": "code",
   "execution_count": 15,
   "metadata": {
    "collapsed": false
   },
   "outputs": [
    {
     "data": {
      "text/plain": [
       "'hdfs://lhdppn01p35.staples.com:8020/user/appry001/expo-mf-data/test.num.sub.20.50'"
      ]
     },
     "execution_count": 15,
     "metadata": {},
     "output_type": "execute_result"
    }
   ],
   "source": [
    "test_outp = os.path.join(HDFS, 'user/appry001/expo-mf-data/', 'test.num.sub.20.50')\n",
    "test_outp"
   ]
  },
  {
   "cell_type": "code",
   "execution_count": 16,
   "metadata": {
    "collapsed": true
   },
   "outputs": [],
   "source": [
    "sc.parallelize(test_lines).saveAsTextFile(test_outp)"
   ]
  },
  {
   "cell_type": "markdown",
   "metadata": {},
   "source": [
    "## Load the data and train the model"
   ]
  },
  {
   "cell_type": "code",
   "execution_count": 60,
   "metadata": {
    "collapsed": false
   },
   "outputs": [
    {
     "data": {
      "text/plain": [
       "[[u'152137', u'378', u'1'],\n",
       " [u'152137', u'1142', u'1'],\n",
       " [u'152137', u'1622', u'2']]"
      ]
     },
     "execution_count": 60,
     "metadata": {},
     "output_type": "execute_result"
    }
   ],
   "source": [
    "train = sc.textFile(train_outp).map(lambda l: l.split(','))\n",
    "train.take(3)"
   ]
  },
  {
   "cell_type": "code",
   "execution_count": 61,
   "metadata": {
    "collapsed": false
   },
   "outputs": [
    {
     "data": {
      "text/plain": [
       "[[u'152137', u'1004', u'2'],\n",
       " [u'152137', u'4772', u'1'],\n",
       " [u'152137', u'12342', u'1']]"
      ]
     },
     "execution_count": 61,
     "metadata": {},
     "output_type": "execute_result"
    }
   ],
   "source": [
    "test = sc.textFile(test_outp).map(lambda l: l.split(','))\n",
    "test.take(3)"
   ]
  },
  {
   "cell_type": "code",
   "execution_count": 62,
   "metadata": {
    "collapsed": true
   },
   "outputs": [],
   "source": [
    "import numpy as np\n",
    "from pyspark.mllib.recommendation import ALS, Rating, MatrixFactorizationModel"
   ]
  },
  {
   "cell_type": "code",
   "execution_count": 81,
   "metadata": {
    "collapsed": false
   },
   "outputs": [
    {
     "data": {
      "text/plain": [
       "[[u'152137', u'378', u'1'],\n",
       " [u'152137', u'1142', u'1'],\n",
       " [u'152137', u'1622', u'2']]"
      ]
     },
     "execution_count": 81,
     "metadata": {},
     "output_type": "execute_result"
    }
   ],
   "source": [
    "train.take(3)"
   ]
  },
  {
   "cell_type": "code",
   "execution_count": 85,
   "metadata": {
    "collapsed": false
   },
   "outputs": [],
   "source": [
    "train_rating = train.map(lambda x: Rating(int(x[0]), int(x[1]), float(x[2])))\n",
    "test_rating = test.map(lambda x: Rating(int(x[0]), int(x[1]), float(x[2])))"
   ]
  },
  {
   "cell_type": "code",
   "execution_count": 86,
   "metadata": {
    "collapsed": true
   },
   "outputs": [],
   "source": [
    "train_data = train_rating.map(lambda (u, i, r): (u, i))\n",
    "test_data = test_rating.map(lambda (u, i, r): (u, i))"
   ]
  },
  {
   "cell_type": "code",
   "execution_count": 94,
   "metadata": {
    "collapsed": true
   },
   "outputs": [],
   "source": [
    "user_test = test_data.map(lambda (u, i): (u, [i])).reduceByKey(lambda x, y: x + y)"
   ]
  },
  {
   "cell_type": "code",
   "execution_count": 134,
   "metadata": {
    "collapsed": false
   },
   "outputs": [
    {
     "data": {
      "text/plain": [
       "0.33333333333333331"
      ]
     },
     "execution_count": 134,
     "metadata": {},
     "output_type": "execute_result"
    }
   ],
   "source": [
    "def recall_k(user_eval, k):\n",
    "    user = user_eval[0]\n",
    "    test_set = user_eval[1][0]\n",
    "    pred_set = user_eval[1][1]\n",
    "    pred_set = set(map(lambda x: x[1], pred_set[:k]))\n",
    "    return np.sum([item in pred_set for item in test_set]) / min(k, len(test_set))\n",
    "recall_k(example, 50)"
   ]
  },
  {
   "cell_type": "code",
   "execution_count": 172,
   "metadata": {
    "collapsed": false,
    "scrolled": true
   },
   "outputs": [
    {
     "data": {
      "text/plain": [
       "(33024,\n",
       " ([3015, 4908, 9389, 12581, 20463, 22203],\n",
       "  (Rating(user=33024, product=767, rating=1.010425100767255),\n",
       "   Rating(user=33024, product=16808, rating=0.9795957816718908),\n",
       "   Rating(user=33024, product=5198, rating=0.9587349970638639),\n",
       "   Rating(user=33024, product=854, rating=0.9498261300404074),\n",
       "   Rating(user=33024, product=1458, rating=0.940641987097915),\n",
       "   Rating(user=33024, product=3015, rating=0.6117592657086234),\n",
       "   Rating(user=33024, product=19256, rating=0.5984055407532003),\n",
       "   Rating(user=33024, product=1467, rating=0.5389381892829143),\n",
       "   Rating(user=33024, product=6170, rating=0.5294722983425844),\n",
       "   Rating(user=33024, product=18675, rating=0.5290264851484119),\n",
       "   Rating(user=33024, product=3284, rating=0.49192175086306134),\n",
       "   Rating(user=33024, product=5599, rating=0.4720803830453415),\n",
       "   Rating(user=33024, product=6325, rating=0.4488525576389953),\n",
       "   Rating(user=33024, product=19471, rating=0.41473535356704017),\n",
       "   Rating(user=33024, product=17922, rating=0.4032312718151924),\n",
       "   Rating(user=33024, product=20463, rating=0.4023072210605397),\n",
       "   Rating(user=33024, product=10189, rating=0.39219209286107753),\n",
       "   Rating(user=33024, product=7471, rating=0.3766315941358775),\n",
       "   Rating(user=33024, product=16919, rating=0.34106537391653147),\n",
       "   Rating(user=33024, product=4924, rating=0.3269522950867762),\n",
       "   Rating(user=33024, product=18166, rating=0.28891887526133914),\n",
       "   Rating(user=33024, product=7129, rating=0.2748010537650586),\n",
       "   Rating(user=33024, product=10721, rating=0.27252613154346195),\n",
       "   Rating(user=33024, product=21450, rating=0.2585306010794129),\n",
       "   Rating(user=33024, product=8899, rating=0.25403018804293875),\n",
       "   Rating(user=33024, product=16629, rating=0.2456112436930177),\n",
       "   Rating(user=33024, product=3442, rating=0.24444859090757945),\n",
       "   Rating(user=33024, product=21163, rating=0.24376720822853543),\n",
       "   Rating(user=33024, product=22101, rating=0.2413879734987573),\n",
       "   Rating(user=33024, product=8156, rating=0.23730789813075312),\n",
       "   Rating(user=33024, product=7117, rating=0.2358756532806364),\n",
       "   Rating(user=33024, product=22652, rating=0.216466976958642),\n",
       "   Rating(user=33024, product=16791, rating=0.21624242824057488),\n",
       "   Rating(user=33024, product=17620, rating=0.2063056825748343),\n",
       "   Rating(user=33024, product=957, rating=0.19687668280249382),\n",
       "   Rating(user=33024, product=11981, rating=0.187335720654655),\n",
       "   Rating(user=33024, product=19553, rating=0.17252871882824386),\n",
       "   Rating(user=33024, product=1755, rating=0.16958503758380797),\n",
       "   Rating(user=33024, product=17823, rating=0.16528484832341028),\n",
       "   Rating(user=33024, product=17834, rating=0.15630828233407507),\n",
       "   Rating(user=33024, product=16881, rating=0.1558183180651999),\n",
       "   Rating(user=33024, product=14118, rating=0.15178126840933548),\n",
       "   Rating(user=33024, product=11075, rating=0.1513550388157605),\n",
       "   Rating(user=33024, product=18143, rating=0.1499777186632719),\n",
       "   Rating(user=33024, product=19765, rating=0.14895593313714353),\n",
       "   Rating(user=33024, product=20668, rating=0.14826021636414233),\n",
       "   Rating(user=33024, product=19994, rating=0.14520909839347718),\n",
       "   Rating(user=33024, product=1146, rating=0.14459131300728428),\n",
       "   Rating(user=33024, product=8185, rating=0.14378788738257692),\n",
       "   Rating(user=33024, product=12268, rating=0.13893709333781548))))"
      ]
     },
     "execution_count": 172,
     "metadata": {},
     "output_type": "execute_result"
    }
   ],
   "source": [
    "example"
   ]
  },
  {
   "cell_type": "code",
   "execution_count": 135,
   "metadata": {
    "collapsed": true
   },
   "outputs": [],
   "source": [
    "def train_eval_model(alpha, lambda_):\n",
    "    rank = 100\n",
    "    max_iter = 15\n",
    "    model = ALS.trainImplicit(train_rating,\n",
    "                              rank,\n",
    "                              alpha=alpha,\n",
    "                              lambda_=lambda_,\n",
    "                              iterations=max_iter)\n",
    "    user_recs = model.recommendProductsForUsers(100)    \n",
    "    user_evaluation = user_test.join(user_recs)\n",
    "    user_recall_50 = user_evaluation.map(lambda x: recall_k(x, 50)).mean()\n",
    "    user_recall_20 = user_evaluation.map(lambda x: recall_k(x, 20)).mean()\n",
    "    \n",
    "    return {'recall50': user_recall_50,\n",
    "            'recall20': user_recall_20}"
   ]
  },
  {
   "cell_type": "code",
   "execution_count": 129,
   "metadata": {
    "collapsed": false
   },
   "outputs": [
    {
     "data": {
      "text/plain": [
       "array([  0.03957641,   0.13627633,   0.60477297,  18.57727456,   0.11492544])"
      ]
     },
     "execution_count": 129,
     "metadata": {},
     "output_type": "execute_result"
    }
   ],
   "source": [
    "def param_samp(low, high, num):\n",
    "    loglower = np.log(low)\n",
    "    logupper = np.log(high)\n",
    "    logvals = np.random.uniform(loglower, logupper, num)\n",
    "    return np.exp(logvals)\n",
    "param_samp(0.01, 100, 5)"
   ]
  },
  {
   "cell_type": "code",
   "execution_count": 130,
   "metadata": {
    "collapsed": false
   },
   "outputs": [],
   "source": [
    "alphas = param_samp(0.01, 100, 5)\n",
    "lambdas = param_samp(0.01, 10, 5)\n",
    "params = zip(alphas, lambdas)"
   ]
  },
  {
   "cell_type": "code",
   "execution_count": null,
   "metadata": {
    "collapsed": true
   },
   "outputs": [],
   "source": []
  },
  {
   "cell_type": "code",
   "execution_count": 136,
   "metadata": {
    "collapsed": false
   },
   "outputs": [
    {
     "name": "stdout",
     "output_type": "stream",
     "text": [
      "(17.825145142751957, 0.27104225706618851, {'recall50': 0.2284756767357165, 'recall20': 0.12837532313902669})\n",
      "(25.422385721221822, 0.24212374137682507, {'recall50': 0.22812094425233442, 'recall20': 0.1272428605470298})\n",
      "(0.46495982438481859, 6.8501848320498828, {'recall50': 0.0020546340954205821, 'recall20': 0.00044770480659315489})\n",
      "(4.978924437131738, 2.7261454684745985, {'recall50': 0.1862848227642612, 'recall20': 0.10499244200869294})\n",
      "(1.3176000888200261, 4.8224979959935528, {'recall50': 0.020219911184464992, 'recall20': 0.012085660276751514})\n"
     ]
    }
   ],
   "source": [
    "for alpha, lambda_ in params:\n",
    "    tup = alpha, lambda_, train_eval_model(alpha, lambda_)\n",
    "    data.append(tup)\n",
    "    print(tup)"
   ]
  },
  {
   "cell_type": "code",
   "execution_count": 149,
   "metadata": {
    "collapsed": false
   },
   "outputs": [],
   "source": [
    "\n"
   ]
  },
  {
   "cell_type": "code",
   "execution_count": 150,
   "metadata": {
    "collapsed": false
   },
   "outputs": [
    {
     "data": {
      "text/plain": [
       "[<matplotlib.lines.Line2D at 0x7ff8e5991b90>]"
      ]
     },
     "execution_count": 150,
     "metadata": {},
     "output_type": "execute_result"
    },
    {
     "data": {
      "image/png": "[encoded data removed]",
      "text/plain": [
       "<matplotlib.figure.Figure at 0x7ff8e59914d0>"
      ]
     },
     "metadata": {},
     "output_type": "display_data"
    }
   ],
   "source": [
    "x_alp, y_rec50 = zip(*sorted(map(lambda (a, l, d): (a, d['recall50']), data), key=lambda x: x[0]))\n",
    "x_alp, y_rec20 = zip(*sorted(map(lambda (a, l, d): (a, d['recall20']), data), key=lambda x: x[0]))\n",
    "fig, ax = plt.subplots(figsize=(10,6))\n",
    "ax.plot(x_alp, y_rec50)\n",
    "ax.plot(x_alp, y_rec20)"
   ]
  },
  {
   "cell_type": "code",
   "execution_count": 152,
   "metadata": {
    "collapsed": false
   },
   "outputs": [
    {
     "data": {
      "text/plain": [
       "[<matplotlib.lines.Line2D at 0x7ff8e33ead50>]"
      ]
     },
     "execution_count": 152,
     "metadata": {},
     "output_type": "execute_result"
    },
    {
     "data": {
      "image/png": "[encoded data removed]",
      "text/plain": [
       "<matplotlib.figure.Figure at 0x7ff8e33eaf90>"
      ]
     },
     "metadata": {},
     "output_type": "display_data"
    }
   ],
   "source": [
    "x_lam, y_rec50 = zip(*sorted(map(lambda (a, l, d): (l, d['recall50']), data), key=lambda x: x[0]))\n",
    "fig, ax = plt.subplots(figsize=(10,6))\n",
    "ax.plot(x_lam, y_rec50)"
   ]
  },
  {
   "cell_type": "code",
   "execution_count": 153,
   "metadata": {
    "collapsed": false
   },
   "outputs": [],
   "source": [
    "# more params\n",
    "alphas = param_samp(1, 1000, 5)\n",
    "lambdas = param_samp(0.01, 1, 5)\n",
    "new_params = zip(alphas, lambdas)\n"
   ]
  },
  {
   "cell_type": "code",
   "execution_count": null,
   "metadata": {
    "collapsed": false
   },
   "outputs": [],
   "source": [
    "\n",
    "for alpha, lambda_ in new_params:\n",
    "    tup = alpha, lambda_, train_eval_model(alpha, lambda_)\n",
    "    data.append(tup)\n",
    "    print(tup)"
   ]
  },
  {
   "cell_type": "code",
   "execution_count": 155,
   "metadata": {
    "collapsed": false
   },
   "outputs": [
    {
     "data": {
      "text/plain": [
       "[<matplotlib.lines.Line2D at 0x7ff8e587d510>]"
      ]
     },
     "execution_count": 155,
     "metadata": {},
     "output_type": "execute_result"
    },
    {
     "data": {
      "image/png": "[encoded data removed]",
      "text/plain": [
       "<matplotlib.figure.Figure at 0x7ff8e587da10>"
      ]
     },
     "metadata": {},
     "output_type": "display_data"
    }
   ],
   "source": [
    "x_alp, y_rec50 = zip(*sorted(map(lambda (a, l, d): (a, d['recall50']), data), key=lambda x: x[0]))\n",
    "fig, ax = plt.subplots(figsize=(10,6))\n",
    "ax.plot(x_alp, y_rec50)"
   ]
  },
  {
   "cell_type": "code",
   "execution_count": 157,
   "metadata": {
    "collapsed": false
   },
   "outputs": [
    {
     "data": {
      "text/plain": [
       "(0.46495982438481859,\n",
       " 1.3176000888200261,\n",
       " 2.0978396422694803,\n",
       " 4.978924437131738,\n",
       " 8.6400201220477548,\n",
       " 9.4787689703857421,\n",
       " 17.137948393273099,\n",
       " 17.825145142751957,\n",
       " 25.422385721221822,\n",
       " 58.716915971916201)"
      ]
     },
     "execution_count": 157,
     "metadata": {},
     "output_type": "execute_result"
    }
   ],
   "source": [
    "x_alp"
   ]
  },
  {
   "cell_type": "code",
   "execution_count": 156,
   "metadata": {
    "collapsed": false
   },
   "outputs": [
    {
     "data": {
      "text/plain": [
       "[<matplotlib.lines.Line2D at 0x7ff8e293d250>]"
      ]
     },
     "execution_count": 156,
     "metadata": {},
     "output_type": "execute_result"
    },
    {
     "data": {
      "image/png": "[encoded data removed]",
      "text/plain": [
       "<matplotlib.figure.Figure at 0x7ff8e293d210>"
      ]
     },
     "metadata": {},
     "output_type": "display_data"
    }
   ],
   "source": [
    "x_lam, y_rec50 = zip(*sorted(map(lambda (a, l, d): (l, d['recall50']), data), key=lambda x: x[0]))\n",
    "fig, ax = plt.subplots(figsize=(10,6))\n",
    "ax.plot(x_lam, y_rec50)"
   ]
  },
  {
   "cell_type": "code",
   "execution_count": 158,
   "metadata": {
    "collapsed": true
   },
   "outputs": [],
   "source": [
    "alphas = param_samp(0.1, 20, 5)\n",
    "lambdas = param_samp(0.001, 0.1, 5)\n",
    "new_params = zip(alphas, lambdas)"
   ]
  },
  {
   "cell_type": "code",
   "execution_count": 159,
   "metadata": {
    "collapsed": false
   },
   "outputs": [
    {
     "name": "stdout",
     "output_type": "stream",
     "text": [
      "(7.6589112763894978, 0.023491205994342731, {'recall50': 0.2239953433857263, 'recall20': 0.12730612647673686})\n",
      "(1.1277785021032187, 0.034940589681888602, {'recall50': 0.20893012324255025, 'recall20': 0.11911845562054402})\n",
      "(0.71838648118929327, 0.0042801846436835026, {'recall50': 0.20316568658653458, 'recall20': 0.11478374970387588})\n",
      "(0.95509178534408645, 0.0041900757066951943, {'recall50': 0.20581956750691457, 'recall20': 0.11670860012843023})\n",
      "(5.6119225066467155, 0.004614110824396998, {'recall50': 0.22152404720230032, 'recall20': 0.12604714201157557})\n"
     ]
    }
   ],
   "source": [
    "for alpha, lambda_ in new_params:\n",
    "    tup = alpha, lambda_, train_eval_model(alpha, lambda_)\n",
    "    data.append(tup)\n",
    "    print(tup)"
   ]
  },
  {
   "cell_type": "code",
   "execution_count": 160,
   "metadata": {
    "collapsed": false
   },
   "outputs": [
    {
     "data": {
      "text/plain": [
       "[<matplotlib.lines.Line2D at 0x7ff8e2937850>]"
      ]
     },
     "execution_count": 160,
     "metadata": {},
     "output_type": "execute_result"
    },
    {
     "data": {
      "image/png": "[encoded data removed]",
      "text/plain": [
       "<matplotlib.figure.Figure at 0x7ff8e2937ed0>"
      ]
     },
     "metadata": {},
     "output_type": "display_data"
    }
   ],
   "source": [
    "x_alp, y_rec50 = zip(*sorted(map(lambda (a, l, d): (a, d['recall50']), data), key=lambda x: x[0]))\n",
    "fig, ax = plt.subplots(figsize=(10,6))\n",
    "ax.plot(x_alp, y_rec50)"
   ]
  },
  {
   "cell_type": "code",
   "execution_count": 161,
   "metadata": {
    "collapsed": false
   },
   "outputs": [
    {
     "data": {
      "text/plain": [
       "[<matplotlib.lines.Line2D at 0x7ff8b84b0690>]"
      ]
     },
     "execution_count": 161,
     "metadata": {},
     "output_type": "execute_result"
    },
    {
     "data": {
      "image/png": "[encoded data removed]",
      "text/plain": [
       "<matplotlib.figure.Figure at 0x7ff8b84b0650>"
      ]
     },
     "metadata": {},
     "output_type": "display_data"
    }
   ],
   "source": [
    "x_lam, y_rec50 = zip(*sorted(map(lambda (a, l, d): (l, d['recall50']), data), key=lambda x: x[0]))\n",
    "fig, ax = plt.subplots(figsize=(10,6))\n",
    "ax.plot(x_lam, y_rec50)"
   ]
  },
  {
   "cell_type": "code",
   "execution_count": 168,
   "metadata": {
    "collapsed": false
   },
   "outputs": [],
   "source": [
    "alphas = param_samp(50, 200, 2)\n",
    "lambdas = param_samp(0.001, 0.01, 2)\n",
    "new_params = zip(alphas, lambdas)"
   ]
  },
  {
   "cell_type": "code",
   "execution_count": 169,
   "metadata": {
    "collapsed": false
   },
   "outputs": [
    {
     "name": "stdout",
     "output_type": "stream",
     "text": [
      "(121.63615436781294, 0.0076229807925249395, {'recall50': 0.2035539289386884, 'recall20': 0.10688947155439578})\n",
      "(195.50669472382492, 0.0017811456521684191, {'recall50': 0.1895139763108547, 'recall20': 0.097036605862472786})\n"
     ]
    }
   ],
   "source": [
    "for alpha, lambda_ in new_params:\n",
    "    tup = alpha, lambda_, train_eval_model(alpha, lambda_)\n",
    "    data.append(tup)\n",
    "    print(tup)"
   ]
  },
  {
   "cell_type": "code",
   "execution_count": 171,
   "metadata": {
    "collapsed": false
   },
   "outputs": [
    {
     "data": {
      "text/plain": [
       "[<matplotlib.lines.Line2D at 0x7ff8e32d4d90>]"
      ]
     },
     "execution_count": 171,
     "metadata": {},
     "output_type": "execute_result"
    },
    {
     "data": {
      "image/png": "[encoded data removed]",
      "text/plain": [
       "<matplotlib.figure.Figure at 0x7ff8b845d410>"
      ]
     },
     "metadata": {},
     "output_type": "display_data"
    }
   ],
   "source": [
    "x_alp, y_rec50 = zip(*sorted(map(lambda (a, l, d): (a, d['recall50']), data), key=lambda x: x[0]))\n",
    "x_alp, y_rec20 = zip(*sorted(map(lambda (a, l, d): (a, d['recall20']), data), key=lambda x: x[0]))\n",
    "fig, ax = plt.subplots(figsize=(10,6))\n",
    "ax.plot(x_alp, y_rec50)\n",
    "ax.plot(x_alp, y_rec20)"
   ]
  },
  {
   "cell_type": "code",
   "execution_count": null,
   "metadata": {
    "collapsed": true
   },
   "outputs": [],
   "source": []
  },
  {
   "cell_type": "code",
   "execution_count": 173,
   "metadata": {
    "collapsed": true
   },
   "outputs": [],
   "source": [
    "sc.stop()"
   ]
  },
  {
   "cell_type": "code",
   "execution_count": null,
   "metadata": {
    "collapsed": true
   },
   "outputs": [],
   "source": []
  }
 ],
 "metadata": {
  "kernelspec": {
   "display_name": "Python 2",
   "language": "python",
   "name": "python2"
  },
  "language_info": {
   "codemirror_mode": {
    "name": "ipython",
    "version": 2
   },
   "file_extension": ".py",
   "mimetype": "text/x-python",
   "name": "python",
   "nbconvert_exporter": "python",
   "pygments_lexer": "ipython2",
   "version": "2.7.12"
  }
 },
 "nbformat": 4,
 "nbformat_minor": 0
}
