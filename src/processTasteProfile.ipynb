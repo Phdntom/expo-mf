{
 "cells": [
  {
   "cell_type": "markdown",
   "metadata": {},
   "source": [
    "# Million Song Dataset Taste Profile"
   ]
  },
  {
   "cell_type": "markdown",
   "metadata": {},
   "source": [
    "[Taste profile dataset](http://labrosa.ee.columbia.edu/millionsong/tasteprofile) contains real user - play counts from undisclosed users, with following statistics:\n",
    "\n",
    "* 1,019,318 unique users\n",
    "* 384,546 unique MSD songs\n",
    "* 48,373,586 user - song - play count triplets\n",
    "\n",
    "This is the script that subsamples the full dataset and splits it into non-overlapping training, validation, test sets. This subset is used in the paper: [\"modeling user exposure in recommendation\"](http://arxiv.org/abs/1510.07025)."
   ]
  },
  {
   "cell_type": "code",
   "execution_count": 1,
   "metadata": {
    "collapsed": false
   },
   "outputs": [],
   "source": [
    "import json\n",
    "import os\n",
    "import sqlite3\n",
    "\n",
    "import numpy as np\n",
    "import pandas as pd"
   ]
  },
  {
   "cell_type": "code",
   "execution_count": 2,
   "metadata": {
    "collapsed": false
   },
   "outputs": [],
   "source": [
    "# Change this to wherever you keep the data\n",
    "TPS_DIR = '/home/rapplegate/projects/external_data/'\n",
    "\n",
    "# The dataset can be obtained here:\n",
    "# http://labrosa.ee.columbia.edu/millionsong/sites/default/files/challenge/train_triplets.txt.zip\n",
    "TP_file = os.path.join(TPS_DIR, 'train_triplets.txt')\n",
    "\n",
    "# track_metadata.db contains all the metadata, which is not required to subsample the data, but only used when \n",
    "# referring to the actual information about particular pieces (e.g. artist, song name, etc.)\n",
    "# Available here: http://labrosa.ee.columbia.edu/millionsong/sites/default/files/AdditionalFiles/track_metadata.db\n",
    "# md_dbfile = os.path.join(TPS_DIR, 'track_metadata.db')"
   ]
  },
  {
   "cell_type": "code",
   "execution_count": 3,
   "metadata": {
    "collapsed": false
   },
   "outputs": [],
   "source": [
    "tp = pd.read_table(TP_file, header=None, names=['uid', 'sid', 'count'])"
   ]
  },
  {
   "cell_type": "markdown",
   "metadata": {},
   "source": [
    "### Get the user-playcount"
   ]
  },
  {
   "cell_type": "code",
   "execution_count": 4,
   "metadata": {
    "collapsed": false
   },
   "outputs": [],
   "source": [
    "# We only keep songs that are listened to by at least MIN_SONG_COUNT users and users who have listened \n",
    "# to at least MIN_USER_COUNT songs\n",
    "\n",
    "MIN_USER_COUNT = 30\n",
    "MIN_SONG_COUNT = 100"
   ]
  },
  {
   "cell_type": "code",
   "execution_count": 5,
   "metadata": {
    "collapsed": false
   },
   "outputs": [],
   "source": [
    "def get_count(tp, id):\n",
    "    playcount_groupbyid = tp[[id, 'count']].groupby(id, as_index=False)\n",
    "    count = playcount_groupbyid.size()\n",
    "    return count\n",
    "\n",
    "def filter_triplets(tp, min_uc=MIN_USER_COUNT, min_sc=MIN_SONG_COUNT):\n",
    "    # Only keep the triplets for songs which were listened to by at least min_sc users. \n",
    "    songcount = get_count(tp, 'sid')\n",
    "    tp = tp[tp['sid'].isin(songcount.index[songcount >= min_sc])]\n",
    "    \n",
    "    # Only keep the triplets for users who listened to at least min_uc songs\n",
    "    # After doing this, some of the songs will have less than min_uc users, but should only be a small proportion\n",
    "    usercount = get_count(tp, 'uid')\n",
    "    tp = tp[tp['uid'].isin(usercount.index[usercount >= min_uc])]\n",
    "    \n",
    "    # Update both usercount and songcount after filtering\n",
    "    usercount, songcount = get_count(tp, 'uid'), get_count(tp, 'sid') \n",
    "    return tp, usercount, songcount"
   ]
  },
  {
   "cell_type": "code",
   "execution_count": 6,
   "metadata": {
    "collapsed": false
   },
   "outputs": [],
   "source": [
    "tp, usercount, songcount = filter_triplets(tp)"
   ]
  },
  {
   "cell_type": "code",
   "execution_count": 7,
   "metadata": {
    "collapsed": false
   },
   "outputs": [
    {
     "name": "stdout",
     "output_type": "stream",
     "text": [
      "After filtering, there are 33018920 triplets from 429167 users and 65510 songs (sparsity level 0.117%)\n"
     ]
    }
   ],
   "source": [
    "sparsity_level = float(tp.shape[0]) / (usercount.shape[0] * songcount.shape[0])\n",
    "print \"After filtering, there are %d triplets from %d users and %d songs (sparsity level %.3f%%)\" % (tp.shape[0], \n",
    "                                                                                                      usercount.shape[0], \n",
    "                                                                                                      songcount.shape[0], \n",
    "                                                                                                      sparsity_level * 100)"
   ]
  },
  {
   "cell_type": "code",
   "execution_count": 8,
   "metadata": {
    "collapsed": false
   },
   "outputs": [
    {
     "name": "stderr",
     "output_type": "stream",
     "text": [
      "/usr/local/lib/python2.7/dist-packages/matplotlib/font_manager.py:273: UserWarning: Matplotlib is building the font cache using fc-list. This may take a moment.\n",
      "  warnings.warn('Matplotlib is building the font cache using fc-list. This may take a moment.')\n"
     ]
    }
   ],
   "source": [
    "import matplotlib\n",
    "matplotlib.use('Agg')\n",
    "import matplotlib.pyplot as plt\n",
    "%matplotlib inline"
   ]
  },
  {
   "cell_type": "code",
   "execution_count": 9,
   "metadata": {
    "collapsed": false
   },
   "outputs": [
    {
     "data": {
      "text/plain": [
       "<matplotlib.text.Text at 0x7f863d313ed0>"
      ]
     },
     "execution_count": 9,
     "metadata": {},
     "output_type": "execute_result"
    },
    {
     "data": {
      "image/png": "[encoded data removed]",
      "text/plain": [
       "<matplotlib.figure.Figure at 0x7f863f85d810>"
      ]
     },
     "metadata": {},
     "output_type": "display_data"
    }
   ],
   "source": [
    "plt.figure(figsize=(10, 4))\n",
    "usercount.hist(bins=100)\n",
    "plt.xlabel('number of songs each user listens to')"
   ]
  },
  {
   "cell_type": "code",
   "execution_count": 10,
   "metadata": {
    "collapsed": false
   },
   "outputs": [
    {
     "data": {
      "text/plain": [
       "<matplotlib.text.Text at 0x7f863d178f50>"
      ]
     },
     "execution_count": 10,
     "metadata": {},
     "output_type": "execute_result"
    },
    {
     "data": {
      "image/png": "[encoded data removed]",
      "text/plain": [
       "<matplotlib.figure.Figure at 0x7f863d25c610>"
      ]
     },
     "metadata": {},
     "output_type": "display_data"
    }
   ],
   "source": [
    "plt.figure(figsize=(10, 4))\n",
    "songcount.hist(bins=100)\n",
    "plt.xlabel('number of users by which each song is listened to')"
   ]
  },
  {
   "cell_type": "code",
   "execution_count": 11,
   "metadata": {
    "collapsed": false
   },
   "outputs": [
    {
     "name": "stdout",
     "output_type": "stream",
     "text": [
      "Sehr kosmisch BY Harmonia -- count: 82524\n",
      "Dog Days Are Over (Radio Edit) BY Florence + The Machine -- count: 73359\n",
      "Undo BY Björk -- count: 64711\n",
      "Secrets BY OneRepublic -- count: 62270\n",
      "You're The One BY Dwight Yoakam -- count: 61191\n",
      "Revelry BY Kings Of Leon -- count: 60286\n",
      "Fireflies BY Charttraxx Karaoke -- count: 51811\n",
      "Hey_ Soul Sister BY Train -- count: 51280\n",
      "Horn Concerto No. 4 in E flat K495: II. Romance (Andante cantabile) BY Barry Tuckwell/Academy of St Martin-in-the-Fields/Sir Neville Marriner -- count: 50840\n",
      "Tive Sim BY Cartola -- count: 45128\n",
      "Use Somebody BY Kings Of Leon -- count: 44781\n",
      "OMG BY Usher featuring will.i.am -- count: 42510\n",
      "Drop The World BY Lil Wayne / Eminem -- count: 40193\n",
      "The Scientist BY Coldplay -- count: 39659\n",
      "Canada BY Five Iron Frenzy -- count: 37996\n",
      "Marry Me BY Train -- count: 37645\n",
      "Clocks BY Coldplay -- count: 37591\n",
      "Catch You Baby (Steve Pitron & Max Sanna Radio Edit) BY Lonnie Gordon -- count: 35633\n",
      "Pursuit Of Happiness (nightmare) BY Kid Cudi / MGMT / Ratatat -- count: 34730\n",
      "Yellow BY Coldplay -- count: 34264\n",
      "Lucky (Album Version) BY Jason Mraz & Colbie Caillat -- count: 33838\n",
      "Bulletproof BY La Roux -- count: 33440\n",
      "Alejandro BY Lady GaGa -- count: 32987\n",
      "Billionaire [feat. Bruno Mars]  (Explicit Album Version) BY Travie McCoy -- count: 32717\n",
      "Creep (Explicit) BY Radiohead -- count: 32638\n",
      "Just Dance BY Lady GaGa / Colby O'Donis -- count: 32562\n",
      "Sincerité Et Jalousie BY Alliance Ethnik -- count: 32001\n",
      "Représente BY Alliance Ethnik -- count: 31249\n",
      "The Only Exception (Album Version) BY Paramore -- count: 30272\n",
      "Somebody To Love BY Justin Bieber -- count: 29014\n",
      "Bleed It Out [Live At Milton Keynes] BY Linkin Park -- count: 28787\n",
      "Invalid BY Tub Ring -- count: 28707\n",
      "I Gotta Feeling BY Black Eyed Peas -- count: 28593\n",
      "Ain't Misbehavin BY Sam Cooke -- count: 27655\n",
      "Livin' On A Prayer BY Bon Jovi -- count: 26903\n",
      "Heartbreak Warfare BY John Mayer -- count: 26855\n",
      "Fix You BY Coldplay -- count: 26811\n",
      "When You Were Young BY The Killers -- count: 26781\n",
      "The Gift BY Angels and Airwaves -- count: 26021\n",
      "Love Story BY Taylor Swift -- count: 25872\n",
      "Float On BY Modest Mouse -- count: 25470\n",
      "Cosmic Love BY Florence + The Machine -- count: 25423\n",
      "Halo BY Beyoncé -- count: 25291\n",
      "Nothin' On You [feat. Bruno Mars] (Album Version) BY B.o.B -- count: 25239\n",
      "Kryptonite BY 3 Doors Down -- count: 25170\n",
      "Supermassive Black Hole (Twilight Soundtrack Version) BY Muse -- count: 25163\n",
      "Uprising BY Muse -- count: 25061\n",
      "Party In The U.S.A. BY Miley Cyrus -- count: 24984\n",
      "Sample Track 2 BY Simon Harris -- count: 24557\n",
      "I CAN'T GET STARTED BY Ron Carter -- count: 24442\n"
     ]
    }
   ],
   "source": [
    "# take a look at the top 50 most listened songs\n",
    "def get_song_info_from_sid(conn, sid):\n",
    "    cur = conn.cursor()\n",
    "    cur.execute(\"SELECT title, artist_name FROM songs WHERE song_id = '%s'\" % (sid))\n",
    "    title, artist = cur.fetchone()\n",
    "    return title, artist\n",
    "\n",
    "songcount.sort(ascending=False)\n",
    "\n",
    "with sqlite3.connect(md_dbfile) as conn:\n",
    "    for i in xrange(50):\n",
    "        sid = songcount.index[i]\n",
    "        title, artist = get_song_info_from_sid(conn, sid)\n",
    "        print \"%s BY %s -- count: %d\" % (title, artist, songcount[i])"
   ]
  },
  {
   "cell_type": "markdown",
   "metadata": {},
   "source": [
    "You might wonder why \"Sehr kosmisch\" by Harmonia is the most popular song. There is actually a metadata matching error in the dataset that affects about 1% of the songs. But since collaborative filtering doesn't make use of metadata, this error will not affect us. Read more about it [here](http://labrosa.ee.columbia.edu/millionsong/blog/12-2-12-fixing-matching-errors)."
   ]
  },
  {
   "cell_type": "markdown",
   "metadata": {},
   "source": [
    "## Subsample ~20000 songs and ~200000 users:"
   ]
  },
  {
   "cell_type": "markdown",
   "metadata": {},
   "source": [
    "* First sample 250000 users based on listening count, only keep the data with those 250000 users\n",
    "* Then sample 25000 songs from the pre-selected user listening history based on listening count\n",
    "* Only keep the users who listened to at least 20 songs and the songs that are listened to by at least 50 users"
   ]
  },
  {
   "cell_type": "code",
   "execution_count": 11,
   "metadata": {
    "collapsed": false
   },
   "outputs": [],
   "source": [
    "unique_uid = usercount.index\n",
    "\n",
    "np.random.seed(98765)\n",
    "\n",
    "#n_users = 250000\n",
    "n_users = 150000\n",
    "p_users = usercount / usercount.sum()\n",
    "idx = np.random.choice(len(unique_uid), size=n_users, replace=False, p=p_users.tolist())\n",
    "unique_uid = unique_uid[idx]"
   ]
  },
  {
   "cell_type": "code",
   "execution_count": 12,
   "metadata": {
    "collapsed": false
   },
   "outputs": [],
   "source": [
    "tp = tp[tp['uid'].isin(unique_uid)]"
   ]
  },
  {
   "cell_type": "code",
   "execution_count": 13,
   "metadata": {
    "collapsed": false
   },
   "outputs": [],
   "source": [
    "unique_sid = songcount.index\n",
    "\n",
    "#n_songs = 25000\n",
    "n_songs = 15000\n",
    "p_songs = songcount / songcount.sum()\n",
    "idx = np.random.choice(len(unique_sid), size=n_songs, replace=False, p=p_songs.tolist())\n",
    "unique_sid = unique_sid[idx]"
   ]
  },
  {
   "cell_type": "code",
   "execution_count": 14,
   "metadata": {
    "collapsed": false
   },
   "outputs": [],
   "source": [
    "tp = tp[tp['sid'].isin(unique_sid)]"
   ]
  },
  {
   "cell_type": "code",
   "execution_count": 15,
   "metadata": {
    "collapsed": false
   },
   "outputs": [],
   "source": [
    "tp, usercount, songcount = filter_triplets(tp, min_uc=MIN_USER_COUNT, min_sc=MIN_SONG_COUNT)\n",
    "unique_uid = usercount.index\n",
    "unique_sid = songcount.index"
   ]
  },
  {
   "cell_type": "code",
   "execution_count": 16,
   "metadata": {
    "collapsed": false
   },
   "outputs": [
    {
     "name": "stdout",
     "output_type": "stream",
     "text": [
      "After subsampling and filtering, there are 7586824 triplets from 104736 users and 12168 songs (sparsity level 0.595%)\n"
     ]
    }
   ],
   "source": [
    "sparsity_level = float(tp.shape[0]) / (usercount.shape[0] * songcount.shape[0])\n",
    "print \"After subsampling and filtering, there are %d triplets from %d users and %d songs (sparsity level %.3f%%)\" % \\\n",
    "(tp.shape[0], usercount.shape[0], songcount.shape[0], sparsity_level * 100)"
   ]
  },
  {
   "cell_type": "code",
   "execution_count": 17,
   "metadata": {
    "collapsed": false
   },
   "outputs": [],
   "source": [
    "song2id = dict((sid, i) for (i, sid) in enumerate(unique_sid))\n",
    "user2id = dict((uid, i) for (i, uid) in enumerate(unique_uid))"
   ]
  },
  {
   "cell_type": "code",
   "execution_count": 18,
   "metadata": {
    "collapsed": false
   },
   "outputs": [],
   "source": [
    "with open(os.path.join(TPS_DIR, 'unique_uid_sub_{0}.txt'.format(MIN_USER_COUNT)), 'w') as f:\n",
    "    for uid in unique_uid:\n",
    "        f.write('%s\\n' % uid)"
   ]
  },
  {
   "cell_type": "code",
   "execution_count": 19,
   "metadata": {
    "collapsed": false
   },
   "outputs": [],
   "source": [
    "with open(os.path.join(TPS_DIR, 'unique_sid_sub_{0}.txt'.format(MIN_SONG_COUNT)), 'w') as f:\n",
    "    for sid in unique_sid:\n",
    "        f.write('%s\\n' % sid)"
   ]
  },
  {
   "cell_type": "markdown",
   "metadata": {},
   "source": [
    "## Generate train/test/vad sets"
   ]
  },
  {
   "cell_type": "markdown",
   "metadata": {},
   "source": [
    "Pick out 20% of the rating for heldout test"
   ]
  },
  {
   "cell_type": "code",
   "execution_count": 20,
   "metadata": {
    "collapsed": false
   },
   "outputs": [],
   "source": [
    "np.random.seed(12345)\n",
    "n_ratings = tp.shape[0]\n",
    "test = np.random.choice(n_ratings, size=int(0.20 * n_ratings), replace=False)"
   ]
  },
  {
   "cell_type": "code",
   "execution_count": 21,
   "metadata": {
    "collapsed": false
   },
   "outputs": [],
   "source": [
    "test_idx = np.zeros(n_ratings, dtype=bool)\n",
    "test_idx[test] = True\n",
    "\n",
    "test_tp = tp[test_idx]\n",
    "train_tp = tp[~test_idx]"
   ]
  },
  {
   "cell_type": "markdown",
   "metadata": {},
   "source": [
    "Make sure there is no empty row or column in the training data"
   ]
  },
  {
   "cell_type": "code",
   "execution_count": 22,
   "metadata": {
    "collapsed": false
   },
   "outputs": [
    {
     "name": "stdout",
     "output_type": "stream",
     "text": [
      "There are total of 104736 unique users in the training set and 104736 unique users in the entire dataset\n"
     ]
    }
   ],
   "source": [
    "print \"There are total of %d unique users in the training set and %d unique users in the entire dataset\" % \\\n",
    "(len(pd.unique(train_tp['uid'])), len(pd.unique(tp['uid'])))"
   ]
  },
  {
   "cell_type": "code",
   "execution_count": 23,
   "metadata": {
    "collapsed": false
   },
   "outputs": [
    {
     "name": "stdout",
     "output_type": "stream",
     "text": [
      "There are total of 12168 unique items in the training set and 12168 unique items in the entire dataset\n"
     ]
    }
   ],
   "source": [
    "print \"There are total of %d unique items in the training set and %d unique items in the entire dataset\" % \\\n",
    "(len(pd.unique(train_tp['sid'])), len(pd.unique(tp['sid'])))"
   ]
  },
  {
   "cell_type": "markdown",
   "metadata": {},
   "source": [
    "Pick out 10% of the training rating as validation set"
   ]
  },
  {
   "cell_type": "code",
   "execution_count": 24,
   "metadata": {
    "collapsed": false
   },
   "outputs": [],
   "source": [
    "np.random.seed(13579)\n",
    "n_ratings = train_tp.shape[0]\n",
    "vad = np.random.choice(n_ratings, size=int(0.10 * n_ratings), replace=False)"
   ]
  },
  {
   "cell_type": "code",
   "execution_count": 25,
   "metadata": {
    "collapsed": false
   },
   "outputs": [],
   "source": [
    "vad_idx = np.zeros(n_ratings, dtype=bool)\n",
    "vad_idx[vad] = True\n",
    "\n",
    "vad_tp = train_tp[vad_idx]\n",
    "train_tp = train_tp[~vad_idx]"
   ]
  },
  {
   "cell_type": "markdown",
   "metadata": {},
   "source": [
    "Again make sure there is no empty row or column in the training data"
   ]
  },
  {
   "cell_type": "code",
   "execution_count": 26,
   "metadata": {
    "collapsed": false
   },
   "outputs": [
    {
     "name": "stdout",
     "output_type": "stream",
     "text": [
      "There are total of 104736 unique users in the training set and 104736 unique users in the entire dataset\n"
     ]
    }
   ],
   "source": [
    "print \"There are total of %d unique users in the training set and %d unique users in the entire dataset\" % \\\n",
    "(len(pd.unique(train_tp['uid'])), len(pd.unique(tp['uid'])))"
   ]
  },
  {
   "cell_type": "code",
   "execution_count": 27,
   "metadata": {
    "collapsed": false
   },
   "outputs": [
    {
     "name": "stdout",
     "output_type": "stream",
     "text": [
      "There are total of 12168 unique items in the training set and 12168 unique items in the entire dataset\n"
     ]
    }
   ],
   "source": [
    "print \"There are total of %d unique items in the training set and %d unique items in the entire dataset\" % \\\n",
    "(len(pd.unique(train_tp['sid'])), len(pd.unique(tp['sid'])))"
   ]
  },
  {
   "cell_type": "markdown",
   "metadata": {},
   "source": [
    "## Numerize the data into (user_index, item_index, count) format"
   ]
  },
  {
   "cell_type": "code",
   "execution_count": 28,
   "metadata": {
    "collapsed": false
   },
   "outputs": [],
   "source": [
    "def numerize(tp):\n",
    "    uid = map(lambda x: user2id[x], tp['uid'])\n",
    "    sid = map(lambda x: song2id[x], tp['sid'])\n",
    "    tp['uid'] = uid\n",
    "    tp['sid'] = sid\n",
    "    return tp"
   ]
  },
  {
   "cell_type": "code",
   "execution_count": 29,
   "metadata": {
    "collapsed": false
   },
   "outputs": [],
   "source": [
    "train_tp = numerize(train_tp)\n",
    "train_dir = 'train.num.sub.{0}.{1}.csv'.format(MIN_USER_COUNT, MIN_SONG_COUNT)\n",
    "train_tp.to_csv(os.path.join(TPS_DIR, train_dir), index=False)"
   ]
  },
  {
   "cell_type": "code",
   "execution_count": 30,
   "metadata": {
    "collapsed": false
   },
   "outputs": [
    {
     "name": "stderr",
     "output_type": "stream",
     "text": [
      "/usr/local/lib/python2.7/dist-packages/ipykernel/__main__.py:4: SettingWithCopyWarning: \n",
      "A value is trying to be set on a copy of a slice from a DataFrame.\n",
      "Try using .loc[row_indexer,col_indexer] = value instead\n",
      "\n",
      "See the caveats in the documentation: http://pandas.pydata.org/pandas-docs/stable/indexing.html#indexing-view-versus-copy\n",
      "/usr/local/lib/python2.7/dist-packages/ipykernel/__main__.py:5: SettingWithCopyWarning: \n",
      "A value is trying to be set on a copy of a slice from a DataFrame.\n",
      "Try using .loc[row_indexer,col_indexer] = value instead\n",
      "\n",
      "See the caveats in the documentation: http://pandas.pydata.org/pandas-docs/stable/indexing.html#indexing-view-versus-copy\n"
     ]
    }
   ],
   "source": [
    "test_tp = numerize(test_tp)\n",
    "test_dir = 'test.num.sub.{0}.{1}.csv'.format(MIN_USER_COUNT, MIN_SONG_COUNT)\n",
    "test_tp.to_csv(os.path.join(TPS_DIR, test_dir), index=False)"
   ]
  },
  {
   "cell_type": "code",
   "execution_count": 31,
   "metadata": {
    "collapsed": false
   },
   "outputs": [],
   "source": [
    "vad_tp = numerize(vad_tp)\n",
    "vad_dir = 'vad.num.sub.{0}.{1}.csv'.format(MIN_USER_COUNT, MIN_SONG_COUNT)\n",
    "vad_tp.to_csv(os.path.join(TPS_DIR, vad_dir), index=False)"
   ]
  },
  {
   "cell_type": "code",
   "execution_count": 32,
   "metadata": {
    "collapsed": false
   },
   "outputs": [
    {
     "data": {
      "text/plain": [
       "'/home/rapplegate/projects/external_data/'"
      ]
     },
     "execution_count": 32,
     "metadata": {},
     "output_type": "execute_result"
    }
   ],
   "source": [
    "TPS_DIR"
   ]
  },
  {
   "cell_type": "code",
   "execution_count": null,
   "metadata": {
    "collapsed": true
   },
   "outputs": [],
   "source": []
  }
 ],
 "metadata": {
  "kernelspec": {
   "display_name": "Python 2",
   "language": "python",
   "name": "python2"
  },
  "language_info": {
   "codemirror_mode": {
    "name": "ipython",
    "version": 2
   },
   "file_extension": ".py",
   "mimetype": "text/x-python",
   "name": "python",
   "nbconvert_exporter": "python",
   "pygments_lexer": "ipython2",
   "version": "2.7.6"
  }
 },
 "nbformat": 4,
 "nbformat_minor": 0
}
