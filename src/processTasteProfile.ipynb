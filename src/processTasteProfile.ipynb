{
 "cells": [
  {
   "cell_type": "markdown",
   "metadata": {},
   "source": [
    "# Million Song Dataset Taste Profile"
   ]
  },
  {
   "cell_type": "markdown",
   "metadata": {},
   "source": [
    "[Taste profile dataset](http://labrosa.ee.columbia.edu/millionsong/tasteprofile) contains real user - play counts from undisclosed users, with following statistics:\n",
    "\n",
    "* 1,019,318 unique users\n",
    "* 384,546 unique MSD songs\n",
    "* 48,373,586 user - song - play count triplets\n",
    "\n",
    "This is the script that subsamples the full dataset and splits it into non-overlapping training, validation, test sets. This subset is used in the paper: [\"modeling user exposure in recommendation\"](http://arxiv.org/abs/1510.07025)."
   ]
  },
  {
   "cell_type": "code",
   "execution_count": 1,
   "metadata": {
    "collapsed": false
   },
   "outputs": [],
   "source": [
    "import json\n",
    "import os\n",
    "import sqlite3\n",
    "\n",
    "import numpy as np\n",
    "import pandas as pd"
   ]
  },
  {
   "cell_type": "code",
   "execution_count": 18,
   "metadata": {
    "collapsed": false
   },
   "outputs": [],
   "source": [
    "# Change this to wherever you keep the data\n",
    "TPS_DIR = '/home/net1/appry001/data/expo-mf-data'\n",
    "\n",
    "# The dataset can be obtained here:\n",
    "# http://labrosa.ee.columbia.edu/millionsong/sites/default/files/challenge/train_triplets.txt.zip\n",
    "TP_file = os.path.join(TPS_DIR, 'train_triplets.txt')\n",
    "\n",
    "# track_metadata.db contains all the metadata, which is not required to subsample the data, but only used when \n",
    "# referring to the actual information about particular pieces (e.g. artist, song name, etc.)\n",
    "# Available here: http://labrosa.ee.columbia.edu/millionsong/sites/default/files/AdditionalFiles/track_metadata.db\n",
    "# md_dbfile = os.path.join(TPS_DIR, 'track_metadata.db')"
   ]
  },
  {
   "cell_type": "code",
   "execution_count": 3,
   "metadata": {
    "collapsed": false
   },
   "outputs": [],
   "source": [
    "tp = pd.read_table(TP_file, header=None, names=['uid', 'sid', 'count'])"
   ]
  },
  {
   "cell_type": "markdown",
   "metadata": {},
   "source": [
    "### Get the user-playcount"
   ]
  },
  {
   "cell_type": "code",
   "execution_count": 4,
   "metadata": {
    "collapsed": false
   },
   "outputs": [],
   "source": [
    "# We only keep songs that are listened to by at least MIN_SONG_COUNT users and users who have listened \n",
    "# to at least MIN_USER_COUNT songs\n",
    "\n",
    "MIN_USER_COUNT = 20\n",
    "MIN_SONG_COUNT = 50"
   ]
  },
  {
   "cell_type": "code",
   "execution_count": 5,
   "metadata": {
    "collapsed": false
   },
   "outputs": [],
   "source": [
    "def get_count(tp, id):\n",
    "    playcount_groupbyid = tp[[id, 'count']].groupby(id, as_index=False)\n",
    "    count = playcount_groupbyid.size()\n",
    "    return count\n",
    "\n",
    "def filter_triplets(tp, min_uc=MIN_USER_COUNT, min_sc=MIN_SONG_COUNT):\n",
    "    # Only keep the triplets for songs which were listened to by at least min_sc users. \n",
    "    songcount = get_count(tp, 'sid')\n",
    "    tp = tp[tp['sid'].isin(songcount.index[songcount >= min_sc])]\n",
    "    \n",
    "    # Only keep the triplets for users who listened to at least min_uc songs\n",
    "    # After doing this, some of the songs will have less than min_uc users, but should only be a small proportion\n",
    "    usercount = get_count(tp, 'uid')\n",
    "    tp = tp[tp['uid'].isin(usercount.index[usercount >= min_uc])]\n",
    "    \n",
    "    # Update both usercount and songcount after filtering\n",
    "    usercount, songcount = get_count(tp, 'uid'), get_count(tp, 'sid') \n",
    "    return tp, usercount, songcount"
   ]
  },
  {
   "cell_type": "code",
   "execution_count": 6,
   "metadata": {
    "collapsed": false
   },
   "outputs": [],
   "source": [
    "tp, usercount, songcount = filter_triplets(tp)"
   ]
  },
  {
   "cell_type": "code",
   "execution_count": 7,
   "metadata": {
    "collapsed": false
   },
   "outputs": [
    {
     "name": "stdout",
     "output_type": "stream",
     "text": [
      "After filtering, there are 39730795 triplets from 629112 users and 98485 songs (sparsity level 0.064%)\n"
     ]
    }
   ],
   "source": [
    "sparsity_level = float(tp.shape[0]) / (usercount.shape[0] * songcount.shape[0])\n",
    "print \"After filtering, there are %d triplets from %d users and %d songs (sparsity level %.3f%%)\" % (tp.shape[0], \n",
    "                                                                                                      usercount.shape[0], \n",
    "                                                                                                      songcount.shape[0], \n",
    "                                                                                                      sparsity_level * 100)"
   ]
  },
  {
   "cell_type": "code",
   "execution_count": 8,
   "metadata": {
    "collapsed": false
   },
   "outputs": [],
   "source": [
    "import matplotlib\n",
    "matplotlib.use('Agg')\n",
    "import matplotlib.pyplot as plt\n",
    "%matplotlib inline"
   ]
  },
  {
   "cell_type": "code",
   "execution_count": 9,
   "metadata": {
    "collapsed": false
   },
   "outputs": [
    {
     "data": {
      "text/plain": [
       "<matplotlib.text.Text at 0x7fab694e91d0>"
      ]
     },
     "execution_count": 9,
     "metadata": {},
     "output_type": "execute_result"
    },
    {
     "data": {
      "image/png": "[encoded data removed]",
      "text/plain": [
       "<matplotlib.figure.Figure at 0x7fab694cdb50>"
      ]
     },
     "metadata": {},
     "output_type": "display_data"
    }
   ],
   "source": [
    "plt.figure(figsize=(10, 4))\n",
    "usercount.hist(bins=100)\n",
    "plt.xlabel('number of songs each user listens to')"
   ]
  },
  {
   "cell_type": "code",
   "execution_count": 10,
   "metadata": {
    "collapsed": false
   },
   "outputs": [
    {
     "data": {
      "text/plain": [
       "<matplotlib.text.Text at 0x7fab6930da50>"
      ]
     },
     "execution_count": 10,
     "metadata": {},
     "output_type": "execute_result"
    },
    {
     "data": {
      "image/png": "[encoded data removed]",
      "text/plain": [
       "<matplotlib.figure.Figure at 0x7fab694cd950>"
      ]
     },
     "metadata": {},
     "output_type": "display_data"
    }
   ],
   "source": [
    "plt.figure(figsize=(10, 4))\n",
    "songcount.hist(bins=100)\n",
    "plt.xlabel('number of users by which each song is listened to')"
   ]
  },
  {
   "cell_type": "code",
   "execution_count": 11,
   "metadata": {
    "collapsed": false
   },
   "outputs": [
    {
     "name": "stderr",
     "output_type": "stream",
     "text": [
      "/home/hadoop/datashdp/.linuxbrew/lib/python2.7/site-packages/ipykernel/__main__.py:8: FutureWarning: sort is deprecated, use sort_values(inplace=True) for INPLACE sorting\n"
     ]
    },
    {
     "ename": "NameError",
     "evalue": "name 'md_dbfile' is not defined",
     "output_type": "error",
     "traceback": [
      "\u001b[0;31m-----------------------------------------------------\u001b[0m",
      "\u001b[0;31mNameError\u001b[0m           Traceback (most recent call last)",
      "\u001b[0;32m<ipython-input-11-db3fcad39ff5>\u001b[0m in \u001b[0;36m<module>\u001b[0;34m()\u001b[0m\n\u001b[1;32m      8\u001b[0m \u001b[0msongcount\u001b[0m\u001b[0;34m.\u001b[0m\u001b[0msort\u001b[0m\u001b[0;34m(\u001b[0m\u001b[0mascending\u001b[0m\u001b[0;34m=\u001b[0m\u001b[0mFalse\u001b[0m\u001b[0;34m)\u001b[0m\u001b[0;34m\u001b[0m\u001b[0m\n\u001b[1;32m      9\u001b[0m \u001b[0;34m\u001b[0m\u001b[0m\n\u001b[0;32m---> 10\u001b[0;31m \u001b[0;32mwith\u001b[0m \u001b[0msqlite3\u001b[0m\u001b[0;34m.\u001b[0m\u001b[0mconnect\u001b[0m\u001b[0;34m(\u001b[0m\u001b[0mmd_dbfile\u001b[0m\u001b[0;34m)\u001b[0m \u001b[0;32mas\u001b[0m \u001b[0mconn\u001b[0m\u001b[0;34m:\u001b[0m\u001b[0;34m\u001b[0m\u001b[0m\n\u001b[0m\u001b[1;32m     11\u001b[0m     \u001b[0;32mfor\u001b[0m \u001b[0mi\u001b[0m \u001b[0;32min\u001b[0m \u001b[0mxrange\u001b[0m\u001b[0;34m(\u001b[0m\u001b[0;36m50\u001b[0m\u001b[0;34m)\u001b[0m\u001b[0;34m:\u001b[0m\u001b[0;34m\u001b[0m\u001b[0m\n\u001b[1;32m     12\u001b[0m         \u001b[0msid\u001b[0m \u001b[0;34m=\u001b[0m \u001b[0msongcount\u001b[0m\u001b[0;34m.\u001b[0m\u001b[0mindex\u001b[0m\u001b[0;34m[\u001b[0m\u001b[0mi\u001b[0m\u001b[0;34m]\u001b[0m\u001b[0;34m\u001b[0m\u001b[0m\n",
      "\u001b[0;31mNameError\u001b[0m: name 'md_dbfile' is not defined"
     ]
    }
   ],
   "source": [
    "# take a look at the top 50 most listened songs\n",
    "def get_song_info_from_sid(conn, sid):\n",
    "    cur = conn.cursor()\n",
    "    cur.execute(\"SELECT title, artist_name FROM songs WHERE song_id = '%s'\" % (sid))\n",
    "    title, artist = cur.fetchone()\n",
    "    return title, artist\n",
    "\n",
    "songcount.sort(ascending=False)\n",
    "\n",
    "with sqlite3.connect(md_dbfile) as conn:\n",
    "    for i in xrange(50):\n",
    "        sid = songcount.index[i]\n",
    "        title, artist = get_song_info_from_sid(conn, sid)\n",
    "        print \"%s BY %s -- count: %d\" % (title, artist, songcount[i])"
   ]
  },
  {
   "cell_type": "markdown",
   "metadata": {},
   "source": [
    "You might wonder why \"Sehr kosmisch\" by Harmonia is the most popular song. There is actually a metadata matching error in the dataset that affects about 1% of the songs. But since collaborative filtering doesn't make use of metadata, this error will not affect us. Read more about it [here](http://labrosa.ee.columbia.edu/millionsong/blog/12-2-12-fixing-matching-errors)."
   ]
  },
  {
   "cell_type": "markdown",
   "metadata": {},
   "source": [
    "## Subsample ~20000 songs and ~200000 users:"
   ]
  },
  {
   "cell_type": "markdown",
   "metadata": {},
   "source": [
    "* First sample 250000 users based on listening count, only keep the data with those 250000 users\n",
    "* Then sample 25000 songs from the pre-selected user listening history based on listening count\n",
    "* Only keep the users who listened to at least 20 songs and the songs that are listened to by at least 50 users"
   ]
  },
  {
   "cell_type": "code",
   "execution_count": 12,
   "metadata": {
    "collapsed": false
   },
   "outputs": [],
   "source": [
    "unique_uid = usercount.index\n",
    "\n",
    "np.random.seed(98765)\n",
    "\n",
    "n_users = 250000\n",
    "#n_users = 150000\n",
    "p_users = usercount / usercount.sum()\n",
    "idx = np.random.choice(len(unique_uid), size=n_users, replace=False, p=p_users.tolist())\n",
    "unique_uid = unique_uid[idx]"
   ]
  },
  {
   "cell_type": "code",
   "execution_count": 13,
   "metadata": {
    "collapsed": false
   },
   "outputs": [],
   "source": [
    "tp = tp[tp['uid'].isin(unique_uid)]"
   ]
  },
  {
   "cell_type": "code",
   "execution_count": 14,
   "metadata": {
    "collapsed": false
   },
   "outputs": [],
   "source": [
    "unique_sid = songcount.index\n",
    "\n",
    "n_songs = 25000\n",
    "#n_songs = 15000\n",
    "p_songs = songcount / songcount.sum()\n",
    "idx = np.random.choice(len(unique_sid), size=n_songs, replace=False, p=p_songs.tolist())\n",
    "unique_sid = unique_sid[idx]"
   ]
  },
  {
   "cell_type": "code",
   "execution_count": 15,
   "metadata": {
    "collapsed": false
   },
   "outputs": [],
   "source": [
    "tp = tp[tp['sid'].isin(unique_sid)]"
   ]
  },
  {
   "cell_type": "code",
   "execution_count": 16,
   "metadata": {
    "collapsed": false
   },
   "outputs": [],
   "source": [
    "tp, usercount, songcount = filter_triplets(tp, min_uc=MIN_USER_COUNT, min_sc=MIN_SONG_COUNT)\n",
    "unique_uid = usercount.index\n",
    "unique_sid = songcount.index"
   ]
  },
  {
   "cell_type": "code",
   "execution_count": 17,
   "metadata": {
    "collapsed": false
   },
   "outputs": [
    {
     "name": "stdout",
     "output_type": "stream",
     "text": [
      "After subsampling and filtering, there are 13964169 triplets from 211830 users and 22781 songs (sparsity level 0.289%)\n"
     ]
    }
   ],
   "source": [
    "sparsity_level = float(tp.shape[0]) / (usercount.shape[0] * songcount.shape[0])\n",
    "print \"After subsampling and filtering, there are %d triplets from %d users and %d songs (sparsity level %.3f%%)\" % \\\n",
    "(tp.shape[0], usercount.shape[0], songcount.shape[0], sparsity_level * 100)"
   ]
  },
  {
   "cell_type": "code",
   "execution_count": 19,
   "metadata": {
    "collapsed": false
   },
   "outputs": [],
   "source": [
    "song2id = dict((sid, i) for (i, sid) in enumerate(unique_sid))\n",
    "user2id = dict((uid, i) for (i, uid) in enumerate(unique_uid))"
   ]
  },
  {
   "cell_type": "code",
   "execution_count": 20,
   "metadata": {
    "collapsed": false
   },
   "outputs": [],
   "source": [
    "with open(os.path.join(TPS_DIR, 'unique_uid_sub_{0}.txt'.format(MIN_USER_COUNT)), 'w') as f:\n",
    "    for uid in unique_uid:\n",
    "        f.write('%s\\n' % uid)"
   ]
  },
  {
   "cell_type": "code",
   "execution_count": 21,
   "metadata": {
    "collapsed": false
   },
   "outputs": [],
   "source": [
    "with open(os.path.join(TPS_DIR, 'unique_sid_sub_{0}.txt'.format(MIN_SONG_COUNT)), 'w') as f:\n",
    "    for sid in unique_sid:\n",
    "        f.write('%s\\n' % sid)"
   ]
  },
  {
   "cell_type": "markdown",
   "metadata": {},
   "source": [
    "## Generate train/test/vad sets"
   ]
  },
  {
   "cell_type": "markdown",
   "metadata": {},
   "source": [
    "Pick out 20% of the rating for heldout test"
   ]
  },
  {
   "cell_type": "code",
   "execution_count": 22,
   "metadata": {
    "collapsed": false
   },
   "outputs": [],
   "source": [
    "np.random.seed(12345)\n",
    "n_ratings = tp.shape[0]\n",
    "test = np.random.choice(n_ratings, size=int(0.20 * n_ratings), replace=False)"
   ]
  },
  {
   "cell_type": "code",
   "execution_count": 23,
   "metadata": {
    "collapsed": false
   },
   "outputs": [],
   "source": [
    "test_idx = np.zeros(n_ratings, dtype=bool)\n",
    "test_idx[test] = True\n",
    "\n",
    "test_tp = tp[test_idx]\n",
    "train_tp = tp[~test_idx]"
   ]
  },
  {
   "cell_type": "markdown",
   "metadata": {},
   "source": [
    "Make sure there is no empty row or column in the training data"
   ]
  },
  {
   "cell_type": "code",
   "execution_count": 24,
   "metadata": {
    "collapsed": false
   },
   "outputs": [
    {
     "name": "stdout",
     "output_type": "stream",
     "text": [
      "There are total of 211830 unique users in the training set and 211830 unique users in the entire dataset\n"
     ]
    }
   ],
   "source": [
    "print \"There are total of %d unique users in the training set and %d unique users in the entire dataset\" % \\\n",
    "(len(pd.unique(train_tp['uid'])), len(pd.unique(tp['uid'])))"
   ]
  },
  {
   "cell_type": "code",
   "execution_count": 25,
   "metadata": {
    "collapsed": false
   },
   "outputs": [
    {
     "name": "stdout",
     "output_type": "stream",
     "text": [
      "There are total of 22781 unique items in the training set and 22781 unique items in the entire dataset\n"
     ]
    }
   ],
   "source": [
    "print \"There are total of %d unique items in the training set and %d unique items in the entire dataset\" % \\\n",
    "(len(pd.unique(train_tp['sid'])), len(pd.unique(tp['sid'])))"
   ]
  },
  {
   "cell_type": "markdown",
   "metadata": {},
   "source": [
    "Pick out 10% of the training rating as validation set"
   ]
  },
  {
   "cell_type": "code",
   "execution_count": 26,
   "metadata": {
    "collapsed": false
   },
   "outputs": [],
   "source": [
    "np.random.seed(13579)\n",
    "n_ratings = train_tp.shape[0]\n",
    "vad = np.random.choice(n_ratings, size=int(0.10 * n_ratings), replace=False)"
   ]
  },
  {
   "cell_type": "code",
   "execution_count": 27,
   "metadata": {
    "collapsed": false
   },
   "outputs": [],
   "source": [
    "vad_idx = np.zeros(n_ratings, dtype=bool)\n",
    "vad_idx[vad] = True\n",
    "\n",
    "vad_tp = train_tp[vad_idx]\n",
    "train_tp = train_tp[~vad_idx]"
   ]
  },
  {
   "cell_type": "markdown",
   "metadata": {},
   "source": [
    "Again make sure there is no empty row or column in the training data"
   ]
  },
  {
   "cell_type": "code",
   "execution_count": 28,
   "metadata": {
    "collapsed": false
   },
   "outputs": [
    {
     "name": "stdout",
     "output_type": "stream",
     "text": [
      "There are total of 211830 unique users in the training set and 211830 unique users in the entire dataset\n"
     ]
    }
   ],
   "source": [
    "print \"There are total of %d unique users in the training set and %d unique users in the entire dataset\" % \\\n",
    "(len(pd.unique(train_tp['uid'])), len(pd.unique(tp['uid'])))"
   ]
  },
  {
   "cell_type": "code",
   "execution_count": 29,
   "metadata": {
    "collapsed": false
   },
   "outputs": [
    {
     "name": "stdout",
     "output_type": "stream",
     "text": [
      "There are total of 22781 unique items in the training set and 22781 unique items in the entire dataset\n"
     ]
    }
   ],
   "source": [
    "print \"There are total of %d unique items in the training set and %d unique items in the entire dataset\" % \\\n",
    "(len(pd.unique(train_tp['sid'])), len(pd.unique(tp['sid'])))"
   ]
  },
  {
   "cell_type": "markdown",
   "metadata": {},
   "source": [
    "## Numerize the data into (user_index, item_index, count) format"
   ]
  },
  {
   "cell_type": "code",
   "execution_count": 30,
   "metadata": {
    "collapsed": false
   },
   "outputs": [],
   "source": [
    "def numerize(tp):\n",
    "    uid = map(lambda x: user2id[x], tp['uid'])\n",
    "    sid = map(lambda x: song2id[x], tp['sid'])\n",
    "    tp['uid'] = uid\n",
    "    tp['sid'] = sid\n",
    "    return tp"
   ]
  },
  {
   "cell_type": "code",
   "execution_count": 31,
   "metadata": {
    "collapsed": false
   },
   "outputs": [],
   "source": [
    "train_tp = numerize(train_tp)\n",
    "train_dir = 'train.num.sub.{0}.{1}.csv'.format(MIN_USER_COUNT, MIN_SONG_COUNT)\n",
    "train_tp.to_csv(os.path.join(TPS_DIR, train_dir), index=False)"
   ]
  },
  {
   "cell_type": "code",
   "execution_count": 32,
   "metadata": {
    "collapsed": false
   },
   "outputs": [
    {
     "name": "stderr",
     "output_type": "stream",
     "text": [
      "/home/hadoop/datashdp/.linuxbrew/lib/python2.7/site-packages/ipykernel/__main__.py:4: SettingWithCopyWarning: \n",
      "A value is trying to be set on a copy of a slice from a DataFrame.\n",
      "Try using .loc[row_indexer,col_indexer] = value instead\n",
      "\n",
      "See the caveats in the documentation: http://pandas.pydata.org/pandas-docs/stable/indexing.html#indexing-view-versus-copy\n",
      "/home/hadoop/datashdp/.linuxbrew/lib/python2.7/site-packages/ipykernel/__main__.py:5: SettingWithCopyWarning: \n",
      "A value is trying to be set on a copy of a slice from a DataFrame.\n",
      "Try using .loc[row_indexer,col_indexer] = value instead\n",
      "\n",
      "See the caveats in the documentation: http://pandas.pydata.org/pandas-docs/stable/indexing.html#indexing-view-versus-copy\n"
     ]
    }
   ],
   "source": [
    "test_tp = numerize(test_tp)\n",
    "test_dir = 'test.num.sub.{0}.{1}.csv'.format(MIN_USER_COUNT, MIN_SONG_COUNT)\n",
    "test_tp.to_csv(os.path.join(TPS_DIR, test_dir), index=False)"
   ]
  },
  {
   "cell_type": "code",
   "execution_count": 34,
   "metadata": {
    "collapsed": false
   },
   "outputs": [],
   "source": [
    "vad_tp = numerize(vad_tp)\n",
    "vad_dir = 'vad.num.sub.{0}.{1}.csv'.format(MIN_USER_COUNT, MIN_SONG_COUNT)\n",
    "vad_tp.to_csv(os.path.join(TPS_DIR, vad_dir), index=False)"
   ]
  },
  {
   "cell_type": "code",
   "execution_count": 33,
   "metadata": {
    "collapsed": false
   },
   "outputs": [
    {
     "data": {
      "text/plain": [
       "'/home/net1/appry001/data/expo-mf-data'"
      ]
     },
     "execution_count": 33,
     "metadata": {},
     "output_type": "execute_result"
    }
   ],
   "source": [
    "TPS_DIR"
   ]
  },
  {
   "cell_type": "code",
   "execution_count": null,
   "metadata": {
    "collapsed": true
   },
   "outputs": [],
   "source": []
  }
 ],
 "metadata": {
  "kernelspec": {
   "display_name": "Python 2",
   "language": "python",
   "name": "python2"
  },
  "language_info": {
   "codemirror_mode": {
    "name": "ipython",
    "version": 2
   },
   "file_extension": ".py",
   "mimetype": "text/x-python",
   "name": "python",
   "nbconvert_exporter": "python",
   "pygments_lexer": "ipython2",
   "version": "2.7.12"
  }
 },
 "nbformat": 4,
 "nbformat_minor": 0
}
